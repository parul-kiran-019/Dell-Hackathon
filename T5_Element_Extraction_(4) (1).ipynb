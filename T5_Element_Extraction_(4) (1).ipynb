{
  "cells": [
    {
      "cell_type": "code",
      "execution_count": null,
      "id": "8Khy71Jf8H_R",
      "metadata": {
        "id": "8Khy71Jf8H_R"
      },
      "outputs": [],
      "source": [
        "!pip install selenium\n",
        "!apt-get update \n",
        "!apt install chromium-chromedriver\n",
        "\n",
        "from selenium import webdriver\n",
        "chrome_options = webdriver.ChromeOptions()\n",
        "chrome_options.add_argument('--headless')\n",
        "chrome_options.add_argument('--no-sandbox')\n",
        "chrome_options.add_argument('--disable-dev-shm-usage')\n",
        "driver = webdriver.Chrome('chromedriver',chrome_options=chrome_options)"
      ]
    },
    {
      "cell_type": "code",
      "execution_count": 2,
      "id": "pKa82wc-9WfB",
      "metadata": {
        "id": "pKa82wc-9WfB"
      },
      "outputs": [],
      "source": [
        "import time\n",
        "driver.get(\"https://cms.indianrail.gov.in/CMSREPORT/JSPRWD/rpt/ReportLogin.jsp\")\n",
        "#!wget -O https://cms.indianrail.gov.in/CMSREPORT/JSPRWD/rpt/ReportLogin.jsp\n",
        "html = driver.page_source\n",
        "#print(html)"
      ]
    },
    {
      "cell_type": "code",
      "execution_count": 3,
      "id": "d96c4819",
      "metadata": {
        "id": "d96c4819"
      },
      "outputs": [],
      "source": [
        "Func = open(\"demo.html\",\"w\")\n",
        "   \n",
        "# Adding input data to the HTML file\n",
        "Func.write(html)\n",
        "              \n",
        "# Saving the data into the HTML file\n",
        "Func.close()"
      ]
    },
    {
      "cell_type": "code",
      "execution_count": null,
      "id": "TbHHr8fUlKzQ",
      "metadata": {
        "id": "TbHHr8fUlKzQ"
      },
      "outputs": [],
      "source": [
        "f=open(\"demo.html\")\n",
        "html=f.read()\n",
        "#print(html)\n",
        "f.close()\n"
      ]
    },
    {
      "cell_type": "code",
      "execution_count": 8,
      "id": "7zOH5ISFhDvc",
      "metadata": {
        "id": "7zOH5ISFhDvc"
      },
      "outputs": [],
      "source": [
        "from bs4 import BeautifulSoup\n",
        "\n",
        "\n",
        "def idnames(markup):\n",
        "  #markup = '<input type=\"text\" id=\"fname\" name=\"fname\">'\n",
        "  soup = BeautifulSoup(markup.strip(), 'html.parser')\n",
        "  \n",
        "  #finding the div with the id\n",
        "  el=soup.find_all()\n",
        "  print(el,markup)\n",
        "  d=el[0].attrs\n",
        "  if \"id\" in d:\n",
        "    return d[\"id\"]\n",
        "  else:\n",
        "    return \"\""
      ]
    },
    {
      "cell_type": "code",
      "execution_count": null,
      "id": "e73ede66",
      "metadata": {
        "id": "e73ede66"
      },
      "outputs": [],
      "source": [
        "## TRAINING THE MODEL\n",
        "!pip install transformers\n",
        "!pip install sentencepiece"
      ]
    },
    {
      "cell_type": "code",
      "execution_count": null,
      "id": "f5c5cef4",
      "metadata": {
        "id": "f5c5cef4"
      },
      "outputs": [],
      "source": [
        "import pandas as pd\n",
        "import os\n",
        "import torch\n",
        "from transformers import T5Tokenizer, T5ForConditionalGeneration\n",
        "from transformers.optimization import  Adafactor \n",
        "import time\n",
        "import warnings\n",
        "warnings.filterwarnings('ignore')"
      ]
    },
    {
      "cell_type": "code",
      "execution_count": null,
      "id": "9klpiRoQZvj0",
      "metadata": {
        "id": "9klpiRoQZvj0"
      },
      "outputs": [],
      "source": [
        "!unzip  dataset.zip"
      ]
    },
    {
      "cell_type": "code",
      "execution_count": 12,
      "id": "Rhi1k8wbc_tm",
      "metadata": {
        "id": "Rhi1k8wbc_tm"
      },
      "outputs": [],
      "source": [
        "def cleandata(data):\n",
        "  \n",
        "  #data=f.read()\n",
        "  ndata=data.split('\\n')\n",
        "  #print(ndata)\n",
        "  fdata=\"\"\n",
        "  for i in ndata:\n",
        "    if i.strip().startswith(\"<input\") or i.strip().startswith(\"<select\"):\n",
        "      fdata=fdata+\"  \"+i+\" \\n \"\n",
        "      #print(\"fdata \",fdata)\n",
        "\n",
        "  return fdata\n"
      ]
    },
    {
      "cell_type": "code",
      "execution_count": null,
      "id": "emx-nfGuZ9Go",
      "metadata": {
        "id": "emx-nfGuZ9Go"
      },
      "outputs": [],
      "source": [
        "#reduced the input file size \n",
        "#on free collab GPU tier it was giving out of memory\n",
        "\n",
        "import os\n",
        "\n",
        "datalist1=[]\n",
        "d_files=os.listdir(\"/content/dataset/dataset\")\n",
        "\n",
        "for i in d_files:\n",
        "  f=open(\"/content/dataset/dataset/\"+i)\n",
        "  datar=f.read()\n",
        "  datar=cleandata(datar)\n",
        "  \n",
        "  f.close()\n",
        "\n",
        "  f1=open(\"/content/dataset/output/\"+i.replace(\".html\",\".txt\"))\n",
        "  data1=f1.read()\n",
        "\n",
        "  f1.close()\n",
        "  dl=data1.split(\"\\n\")\n",
        "  intent=\"\"\n",
        "  for i in dl:\n",
        "    if len(i.strip())>0:\n",
        "      id=idnames(i)\n",
        "      intent=intent+\" \"+id\n",
        "\n",
        "  d={}\n",
        "  d[\"Intent\"]=intent\n",
        "  d[\"Query\"]=datar\n",
        "  \n",
        "  datalist1.append(d)  \n",
        "    \n"
      ]
    },
    {
      "cell_type": "code",
      "execution_count": 14,
      "id": "u4Y1SqQfpyXA",
      "metadata": {
        "id": "u4Y1SqQfpyXA"
      },
      "outputs": [],
      "source": [
        "html=cleandata(html)"
      ]
    },
    {
      "cell_type": "code",
      "execution_count": 15,
      "id": "Gu_9BKhcbKwK",
      "metadata": {
        "id": "Gu_9BKhcbKwK"
      },
      "outputs": [],
      "source": [
        "dataset=datalist1"
      ]
    },
    {
      "cell_type": "code",
      "execution_count": null,
      "id": "0ClzdmGcdu-r",
      "metadata": {
        "id": "0ClzdmGcdu-r"
      },
      "outputs": [],
      "source": [
        "datalist1[1]"
      ]
    },
    {
      "cell_type": "code",
      "execution_count": null,
      "id": "892319c7",
      "metadata": {
        "id": "892319c7"
      },
      "outputs": [],
      "source": [
        "batch_size=1 #remian constant \n",
        "num_of_batches=int(len(dataset)/batch_size)\n",
        "num_of_epochs=8 # no of epochs,change eopchs , try to add more data set \n",
        "print(\"Number of batches:\"+ str(num_of_batches))"
      ]
    },
    {
      "cell_type": "code",
      "execution_count": 17,
      "id": "6488a4d2",
      "metadata": {
        "colab": {
          "base_uri": "https://localhost:8080/"
        },
        "id": "6488a4d2",
        "outputId": "902c9de8-bc9a-43b9-ad0e-59a6cf83624a"
      },
      "outputs": [
        {
          "output_type": "stream",
          "name": "stdout",
          "text": [
            "Running on the GPU\n"
          ]
        },
        {
          "output_type": "execute_result",
          "data": {
            "text/plain": [
              "device(type='cuda', index=0)"
            ]
          },
          "metadata": {},
          "execution_count": 17
        }
      ],
      "source": [
        "dev = torch.device(\"cuda:0\") \n",
        "print(\"Running on the GPU\")\n",
        "dev"
      ]
    },
    {
      "cell_type": "code",
      "execution_count": null,
      "id": "d940e49f",
      "metadata": {
        "id": "d940e49f"
      },
      "outputs": [],
      "source": [
        "tokenizer = T5Tokenizer.from_pretrained('t5-base')\n",
        "model = T5ForConditionalGeneration.from_pretrained('t5-base', return_dict=True)\n",
        "#moving the model to device(GPU/CPU)\n",
        "model.to(dev)"
      ]
    },
    {
      "cell_type": "code",
      "execution_count": 19,
      "id": "073f2b00",
      "metadata": {
        "id": "073f2b00"
      },
      "outputs": [],
      "source": [
        "optimizer = Adafactor(\n",
        "    model.parameters(),\n",
        "    lr=1e-3,\n",
        "    eps=(1e-30, 1e-3),\n",
        "    clip_threshold=1.0,\n",
        "    decay_rate=-0.8,\n",
        "    beta1=None,\n",
        "    weight_decay=0.0,\n",
        "    relative_step=False,\n",
        "    scale_parameter=False,\n",
        "    warmup_init=False\n",
        ")"
      ]
    },
    {
      "cell_type": "code",
      "execution_count": 20,
      "id": "c059e34e",
      "metadata": {
        "id": "c059e34e"
      },
      "outputs": [],
      "source": [
        "from IPython.display import HTML, display\n",
        "\n",
        "def progress(loss,value, max=100):\n",
        "    return HTML(\"\"\" Batch loss :{loss}\n",
        "        <progress\n",
        "            value='{value}'\n",
        "            max='{max}',\n",
        "            style='width: 100%'\n",
        "        >\n",
        "            {value}\n",
        "        </progress>\n",
        "    \"\"\".format(loss=loss,value=value, max=max))"
      ]
    },
    {
      "cell_type": "code",
      "execution_count": 21,
      "id": "iyQVTewWcJyQ",
      "metadata": {
        "id": "iyQVTewWcJyQ"
      },
      "outputs": [],
      "source": [
        "import torch\n",
        "torch.cuda.empty_cache()"
      ]
    },
    {
      "cell_type": "code",
      "execution_count": null,
      "id": "_Qtxxf9HeMUZ",
      "metadata": {
        "id": "_Qtxxf9HeMUZ"
      },
      "outputs": [],
      "source": [
        "!pip install GPUtil\n",
        "\n",
        "import torch\n",
        "from GPUtil import showUtilization as gpu_usage\n",
        "from numba import cuda\n",
        "\n",
        "def free_gpu_cache():\n",
        "    print(\"Initial GPU Usage\")\n",
        "    gpu_usage()                             \n",
        "\n",
        "    torch.cuda.empty_cache()\n",
        "\n",
        "    cuda.select_device(0)\n",
        "    cuda.close()\n",
        "    cuda.select_device(0)\n",
        "\n",
        "    print(\"GPU Usage after emptying the cache\")\n",
        "    gpu_usage()"
      ]
    },
    {
      "cell_type": "code",
      "execution_count": 23,
      "id": "5f3814bc",
      "metadata": {
        "colab": {
          "base_uri": "https://localhost:8080/",
          "height": 584
        },
        "id": "5f3814bc",
        "outputId": "267890d9-2646-418e-c197-1f63c8767f1a",
        "scrolled": true
      },
      "outputs": [
        {
          "output_type": "stream",
          "name": "stdout",
          "text": [
            "Running epoch: 1\n"
          ]
        },
        {
          "output_type": "display_data",
          "data": {
            "text/plain": [
              "<IPython.core.display.HTML object>"
            ],
            "text/html": [
              " Batch loss :1.5195518732070923\n",
              "        <progress\n",
              "            value='29'\n",
              "            max='30',\n",
              "            style='width: 100%'\n",
              "        >\n",
              "            29\n",
              "        </progress>\n",
              "    "
            ]
          },
          "metadata": {}
        },
        {
          "output_type": "stream",
          "name": "stdout",
          "text": [
            "Epoch: 1 , Running loss: 2.4424758712450663\n",
            "Running epoch: 2\n"
          ]
        },
        {
          "output_type": "display_data",
          "data": {
            "text/plain": [
              "<IPython.core.display.HTML object>"
            ],
            "text/html": [
              " Batch loss :1.0462018251419067\n",
              "        <progress\n",
              "            value='29'\n",
              "            max='30',\n",
              "            style='width: 100%'\n",
              "        >\n",
              "            29\n",
              "        </progress>\n",
              "    "
            ]
          },
          "metadata": {}
        },
        {
          "output_type": "stream",
          "name": "stdout",
          "text": [
            "Epoch: 2 , Running loss: 1.5552433470884959\n",
            "Running epoch: 3\n"
          ]
        },
        {
          "output_type": "display_data",
          "data": {
            "text/plain": [
              "<IPython.core.display.HTML object>"
            ],
            "text/html": [
              " Batch loss :0.8847383260726929\n",
              "        <progress\n",
              "            value='29'\n",
              "            max='30',\n",
              "            style='width: 100%'\n",
              "        >\n",
              "            29\n",
              "        </progress>\n",
              "    "
            ]
          },
          "metadata": {}
        },
        {
          "output_type": "stream",
          "name": "stdout",
          "text": [
            "Epoch: 3 , Running loss: 1.2091669539610546\n",
            "Running epoch: 4\n"
          ]
        },
        {
          "output_type": "display_data",
          "data": {
            "text/plain": [
              "<IPython.core.display.HTML object>"
            ],
            "text/html": [
              " Batch loss :1.0752731561660767\n",
              "        <progress\n",
              "            value='29'\n",
              "            max='30',\n",
              "            style='width: 100%'\n",
              "        >\n",
              "            29\n",
              "        </progress>\n",
              "    "
            ]
          },
          "metadata": {}
        },
        {
          "output_type": "stream",
          "name": "stdout",
          "text": [
            "Epoch: 4 , Running loss: 1.0932383865118027\n",
            "Running epoch: 5\n"
          ]
        },
        {
          "output_type": "display_data",
          "data": {
            "text/plain": [
              "<IPython.core.display.HTML object>"
            ],
            "text/html": [
              " Batch loss :0.6433746218681335\n",
              "        <progress\n",
              "            value='29'\n",
              "            max='30',\n",
              "            style='width: 100%'\n",
              "        >\n",
              "            29\n",
              "        </progress>\n",
              "    "
            ]
          },
          "metadata": {}
        },
        {
          "output_type": "stream",
          "name": "stdout",
          "text": [
            "Epoch: 5 , Running loss: 0.8221394633253415\n",
            "Running epoch: 6\n"
          ]
        },
        {
          "output_type": "display_data",
          "data": {
            "text/plain": [
              "<IPython.core.display.HTML object>"
            ],
            "text/html": [
              " Batch loss :0.8089286684989929\n",
              "        <progress\n",
              "            value='29'\n",
              "            max='30',\n",
              "            style='width: 100%'\n",
              "        >\n",
              "            29\n",
              "        </progress>\n",
              "    "
            ]
          },
          "metadata": {}
        },
        {
          "output_type": "stream",
          "name": "stdout",
          "text": [
            "Epoch: 6 , Running loss: 0.6905561414857705\n",
            "Running epoch: 7\n"
          ]
        },
        {
          "output_type": "display_data",
          "data": {
            "text/plain": [
              "<IPython.core.display.HTML object>"
            ],
            "text/html": [
              " Batch loss :0.8846947550773621\n",
              "        <progress\n",
              "            value='29'\n",
              "            max='30',\n",
              "            style='width: 100%'\n",
              "        >\n",
              "            29\n",
              "        </progress>\n",
              "    "
            ]
          },
          "metadata": {}
        },
        {
          "output_type": "stream",
          "name": "stdout",
          "text": [
            "Epoch: 7 , Running loss: 0.5686092457423607\n",
            "Running epoch: 8\n"
          ]
        },
        {
          "output_type": "display_data",
          "data": {
            "text/plain": [
              "<IPython.core.display.HTML object>"
            ],
            "text/html": [
              " Batch loss :0.8092967867851257\n",
              "        <progress\n",
              "            value='29'\n",
              "            max='30',\n",
              "            style='width: 100%'\n",
              "        >\n",
              "            29\n",
              "        </progress>\n",
              "    "
            ]
          },
          "metadata": {}
        },
        {
          "output_type": "stream",
          "name": "stdout",
          "text": [
            "Epoch: 8 , Running loss: 0.603662733733654\n"
          ]
        }
      ],
      "source": [
        "#Sets the module in training mode\n",
        "model.train()\n",
        "\n",
        "loss_per_10_steps=[]\n",
        "for epoch in range(1,num_of_epochs+1):\n",
        "    \n",
        "    print('Running epoch: {}'.format(epoch))\n",
        "\n",
        "    running_loss=0\n",
        "\n",
        "    out = display(progress(1, num_of_batches), display_id=True)\n",
        "    for i in range(num_of_batches):\n",
        "        inputbatch=[]\n",
        "        labelbatch=[]\n",
        "        new_df=dataset[i*batch_size:i*batch_size+batch_size]\n",
        "        #print(new_df)\n",
        "        for indx,row in enumerate(new_df):\n",
        "            input = str(row['Query'])+'</s>' \n",
        "            labels = str(row['Intent'])+'</s>' \n",
        "            #print(input)\n",
        "            inputbatch.append(input)\n",
        "            labelbatch.append(labels)\n",
        "        #print(inputbatch)\n",
        "        inputbatch=tokenizer.batch_encode_plus(inputbatch,padding=True,max_length=2000,return_tensors='pt')[\"input_ids\"]\n",
        "        labelbatch=tokenizer.batch_encode_plus(labelbatch,padding=True,max_length=2000,return_tensors=\"pt\") [\"input_ids\"]\n",
        "        inputbatch=inputbatch.to(dev)\n",
        "        labelbatch=labelbatch.to(dev)\n",
        "       \n",
        "\n",
        "        # clear out the gradients of all Variables \n",
        "        optimizer.zero_grad()\n",
        "        \n",
        "        \n",
        "        # Forward propogation\n",
        "        outputs = model(input_ids=inputbatch, labels=labelbatch)\n",
        "        loss = outputs.loss\n",
        "        loss_num=loss.item()\n",
        "        logits = outputs.logits\n",
        "        running_loss+=loss_num\n",
        "        if i%10 ==0:      \n",
        "            loss_per_10_steps.append(loss_num)\n",
        "        out.update(progress(loss_num,i, num_of_batches))\n",
        "\n",
        "        # calculating the gradients\n",
        "        loss.backward()\n",
        "\n",
        "        #updating the params\n",
        "        optimizer.step()\n",
        "        #free_gpu_cache()\n",
        "\n",
        "    running_loss=running_loss/int(num_of_batches)\n",
        "    print('Epoch: {} , Running loss: {}'.format(epoch,running_loss))"
      ]
    },
    {
      "cell_type": "code",
      "execution_count": 24,
      "id": "262df1e7",
      "metadata": {
        "colab": {
          "base_uri": "https://localhost:8080/",
          "height": 295
        },
        "id": "262df1e7",
        "outputId": "a330a661-6c36-4a43-8e5f-3473f2eda0d5"
      },
      "outputs": [
        {
          "output_type": "display_data",
          "data": {
            "text/plain": [
              "<Figure size 432x288 with 1 Axes>"
            ],
            "image/png": "[encoded data removed]"
          },
          "metadata": {
            "needs_background": "light"
          }
        }
      ],
      "source": [
        "import matplotlib.pyplot as plt\n",
        "   \n",
        "steps = [i*100 for i in range(len(loss_per_10_steps))]\n",
        "  \n",
        "plt.plot(steps, loss_per_10_steps)\n",
        "plt.title('Loss')\n",
        "plt.xlabel('Steps')\n",
        "plt.ylabel('Loss')\n",
        "plt.show()"
      ]
    },
    {
      "cell_type": "code",
      "execution_count": 25,
      "id": "HgM1kpCSAhL7",
      "metadata": {
        "id": "HgM1kpCSAhL7"
      },
      "outputs": [],
      "source": [
        "def generateQuery(text):\n",
        "    model.eval()\n",
        "    input_ids = tokenizer.encode(text, return_tensors=\"pt\")  # Batch size 1\n",
        "    #print(text)\n",
        "    #print(input_ids)\n",
        "    input_ids = input_ids.to(dev)\n",
        "    #s = time.time()\n",
        "    outputs = model.generate(input_ids,max_length=400,num_beams=4,early_stopping=True)\n",
        "    gen_text=tokenizer.decode(outputs[0]).replace('<pad>','').replace('</s>','')\n",
        "    #elapsed = time.time() - s\n",
        "    #print('Generated in {} seconds'.format(str(elapsed)[:4]))\n",
        "    return gen_text\n"
      ]
    },
    {
      "cell_type": "code",
      "execution_count": 26,
      "id": "4fba42c3",
      "metadata": {
        "colab": {
          "base_uri": "https://localhost:8080/"
        },
        "id": "4fba42c3",
        "outputId": "2bbddccc-2128-4c6a-fd51-f16f00a9bf43"
      },
      "outputs": [
        {
          "output_type": "stream",
          "name": "stdout",
          "text": [
            "tensor([[  0,   3, 115,  17,  29, 536,   3, 115,  17,  29, 357,   3, 115,  17,\n",
            "          29, 519,   3, 115,  17,  29, 519,   3, 115,  17,  29, 519,   3, 115,\n",
            "          17,  29, 591,   3, 115,  17,  29, 519,   3, 115,  17,  29, 591,   3,\n",
            "         115,  17,  29, 519,   3, 115,  17,  29, 591,   3, 115,  17,  29, 519,\n",
            "           3, 115,  17,  29, 591,   3, 115,  17,  29, 519,   3, 115,  17,  29]],\n",
            "       device='cuda:0')\n",
            "<class 'str'>\n",
            "['btn', 'btn4', 'btn1', 'btn2', 'btn3']\n",
            "{0: 'btn', 1: 'btn4', 2: 'btn1', 3: 'btn2', 4: 'btn3'}\n",
            "Year: 2022\n",
            "Month: 11\n",
            "Day = 4\n",
            "Hour: 5\n",
            "Minute: 23\n",
            "Second: 53\n",
            "Microsecond: 440145\n"
          ]
        }
      ],
      "source": [
        "model.eval()\n",
        "input_ids = tokenizer.batch_encode_plus( [ html +\" </s>\"], padding=True, return_tensors=\"pt\")[\"input_ids\"]  # Batch size 1\n",
        "input_ids=input_ids.to(dev)\n",
        "outputs = model.generate(input_ids,max_length=70,num_beams=4,early_stopping=False)\n",
        "print(outputs)\n",
        "lst=[]\n",
        "for o in outputs:\n",
        "    print(type(tokenizer.decode(o)))\n",
        "    lst = tokenizer.decode(o).split(\" \")\n",
        "    # lst.append(tokenizer.decode(o))\n",
        "res = set(lst)\n",
        "result=[]\n",
        "for i in res:\n",
        "  if i!='<pad>':\n",
        "    result.append(i)\n",
        "print(result)\n",
        "\n",
        "reslt = {i: result[i] for i in range(len(result))}\n",
        "print(reslt)\n",
        "\n",
        "import json\n",
        "from datetime import datetime\n",
        "\n",
        "# Get current date and time\n",
        "now = datetime.now()\n",
        "\n",
        "# extract attributes \n",
        "print(\"Year:\", now.year)\n",
        "print(\"Month:\", now.month)\n",
        "print(\"Day =\", now.day)\n",
        "\n",
        "print(\"Hour:\", now.hour)\n",
        "print(\"Minute:\", now.minute)\n",
        "print(\"Second:\", now.second)\n",
        "print(\"Microsecond:\", now.microsecond)\n",
        "\n",
        "string = str(now.day) + str(now.month) + str(now.year) + str(now.hour) + str(now.minute) + str(now.second) + str(now.microsecond)[:2]\n",
        "\n",
        "path = string+'.json'\n",
        "with open(path, 'w') as fp:\n",
        "    json.dump(reslt, fp)"
      ]
    },
    {
      "cell_type": "code",
      "execution_count": null,
      "id": "AL_Ak_6stdp8",
      "metadata": {
        "id": "AL_Ak_6stdp8"
      },
      "outputs": [],
      "source": [
        "dataset[14]['Query']"
      ]
    },
    {
      "cell_type": "code",
      "execution_count": null,
      "id": "fa99492e",
      "metadata": {
        "id": "fa99492e"
      },
      "outputs": [],
      "source": [
        "#!wget https://s3.amazonaws.com/models.huggingface.co/bert/t5-large-config.json"
      ]
    },
    {
      "cell_type": "code",
      "execution_count": null,
      "id": "308bec6e",
      "metadata": {
        "id": "308bec6e"
      },
      "outputs": [],
      "source": [
        "torch.save(model.state_dict(),'mymodel.bin')"
      ]
    },
    {
      "cell_type": "code",
      "execution_count": null,
      "id": "8b9cb10c",
      "metadata": {
        "id": "8b9cb10c"
      },
      "outputs": [],
      "source": [
        "#Inference\n",
        "!wget https://s3.amazonaws.com/models.huggingface.co/bert/t5-base-config.json\n",
        "model = T5ForConditionalGeneration.from_pretrained('/content/drive/MyDrive/pytoch_model_with_augmented_data.bin', return_dict=True,config='t5-base-config.json')\n",
        "tokenizer = T5Tokenizer.from_pretrained('t5-base')\n"
      ]
    },
    {
      "cell_type": "code",
      "execution_count": null,
      "id": "Wo90_DOLw0Fp",
      "metadata": {
        "id": "Wo90_DOLw0Fp"
      },
      "outputs": [],
      "source": [
        "#Inference\n",
        "!wget https://s3.amazonaws.com/models.huggingface.co/bert/t5-base-config.json\n",
        "model = T5ForConditionalGeneration.from_pretrained('/content/drive/MyDrive/pytoch_model_with_augmented_data.bin', return_dict=True,config='t5-base-config.json')\n",
        "tokenizer = T5Tokenizer.from_pretrained('t5-base')"
      ]
    }
  ],
  "metadata": {
    "colab": {
      "collapsed_sections": [],
      "provenance": []
    },
    "gpuClass": "standard",
    "kernelspec": {
      "display_name": "Python 3.6.2 64-bit",
      "language": "python",
      "name": "python3"
    },
    "language_info": {
      "codemirror_mode": {
        "name": "ipython",
        "version": 3
      },
      "file_extension": ".py",
      "mimetype": "text/x-python",
      "name": "python",
      "nbconvert_exporter": "python",
      "pygments_lexer": "ipython3",
      "version": "3.6.2"
    },
    "varInspector": {
      "cols": {
        "lenName": 16,
        "lenType": 16,
        "lenVar": 40
      },
      "kernels_config": {
        "python": {
          "delete_cmd_postfix": "",
          "delete_cmd_prefix": "del ",
          "library": "var_list.py",
          "varRefreshCmd": "print(var_dic_list())"
        },
        "r": {
          "delete_cmd_postfix": ") ",
          "delete_cmd_prefix": "rm(",
          "library": "var_list.r",
          "varRefreshCmd": "cat(var_dic_list()) "
        }
      },
      "types_to_exclude": [
        "module",
        "function",
        "builtin_function_or_method",
        "instance",
        "_Feature"
      ],
      "window_display": false
    },
    "vscode": {
      "interpreter": {
        "hash": "d207591e6ff77a7c5fb4cef0dd9fd3703274637a9d0902d2045beb3a65bf572a"
      }
    },
    "accelerator": "GPU"
  },
  "nbformat": 4,
  "nbformat_minor": 5
}